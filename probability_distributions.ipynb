{
 "cells": [
  {
   "cell_type": "code",
   "execution_count": 67,
   "metadata": {},
   "outputs": [],
   "source": [
    "#SETUP\n",
    "import matplotlib.pyplot as plt\n",
    "import numpy as np\n",
    "import pandas as pd\n",
    "from scipy import stats"
   ]
  },
  {
   "cell_type": "code",
   "execution_count": 4,
   "metadata": {},
   "outputs": [
    {
     "data": {
      "image/png": "[encoded data removed]",
      "text/plain": [
       "<Figure size 432x288 with 1 Axes>"
      ]
     },
     "metadata": {
      "needs_background": "light"
     },
     "output_type": "display_data"
    }
   ],
   "source": [
    "# 1. A bank found that the average number of cars waiting during the noon hour at a drive-up window follows a Poisson distribution with a mean of 2 cars.\n",
    "# a. Make a chart of this distribution and answer these questions concerning the probability of cars waiting at the drive-up window.\n",
    "avg_cars_waiting = 2\n",
    "pd.Series(stats.poisson(avg_cars_waiting).rvs(1000)).value_counts().sort_index().plot(kind='bar')\n",
    "plt.show()\n"
   ]
  },
  {
   "cell_type": "code",
   "execution_count": 5,
   "metadata": {},
   "outputs": [
    {
     "name": "stdout",
     "output_type": "stream",
     "text": [
      "The probability that there will be no cars at noon iss 13.5%\n"
     ]
    }
   ],
   "source": [
    "# b. What is the probability that no cars drive up in the noon hour?\n",
    "no_cars_noon = round(stats.poisson(avg_cars_waiting).pmf(0), 3)\n",
    "print(f'The probability that there will be no cars at noon iss {no_cars_noon * 100}%')"
   ]
  },
  {
   "cell_type": "code",
   "execution_count": 6,
   "metadata": {},
   "outputs": [
    {
     "name": "stdout",
     "output_type": "stream",
     "text": [
      "The probability that there will be 3 or more cars at noon iss 32.0%\n"
     ]
    }
   ],
   "source": [
    "# c. What is the probability that 3 or more cars come through the drive through?\n",
    "three_or_more_cars = round(stats.poisson(avg_cars_waiting).sf(2), 2)\n",
    "print(f'The probability that there will be 3 or more cars at noon iss {three_or_more_cars * 100}%')"
   ]
  },
  {
   "cell_type": "code",
   "execution_count": 7,
   "metadata": {},
   "outputs": [
    {
     "name": "stdout",
     "output_type": "stream",
     "text": [
      "The probability that there will be at least 1 car at noon iss 41.0%\n"
     ]
    }
   ],
   "source": [
    "# d. How likely is it that the drive through gets at least 1 car?\n",
    "one_car = round(stats.poisson(avg_cars_waiting).cdf(1), 2)\n",
    "print(f'The probability that there will be at least 1 car at noon iss {one_car * 100}%')"
   ]
  },
  {
   "cell_type": "code",
   "execution_count": 8,
   "metadata": {},
   "outputs": [
    {
     "name": "stdout",
     "output_type": "stream",
     "text": [
      "The minimum GPA required to be in the top 5% of the graduating class is 3.49\n"
     ]
    }
   ],
   "source": [
    "# 2. Grades of State University graduates are normally distributed with a mean of 3.0 and a standard deviation of .3. \n",
    "# Calculate the following:\n",
    "# a. What grade point average is required to be in the top 5% of the graduating class?\n",
    "SU_grad_mean = 3\n",
    "SU_grad_std = .3\n",
    "gpa_top_five_percent = round(stats.norm(SU_grad_mean, SU_grad_std).ppf(1 - .05), 2)\n",
    "print(f'The minimum GPA required to be in the top 5% of the graduating class is {gpa_top_five_percent}')"
   ]
  },
  {
   "cell_type": "code",
   "execution_count": 126,
   "metadata": {},
   "outputs": [
    {
     "name": "stdout",
     "output_type": "stream",
     "text": [
      "The simulation shows a gpa greater than 3.49 is in the top 5.056%\n"
     ]
    }
   ],
   "source": [
    "#simulation check\n",
    "check_2a = (np.random.normal(3, .3, 100_000) > 3.49).mean()\n",
    "print(f'The simulation shows a gpa greater than 3.49 is in the top {check_2a * 100}%')"
   ]
  },
  {
   "cell_type": "code",
   "execution_count": 9,
   "metadata": {},
   "outputs": [
    {
     "name": "stdout",
     "output_type": "stream",
     "text": [
      "Anything belwao a 2.69 GPA is considered bottom 15% of the class\n"
     ]
    }
   ],
   "source": [
    "# b. What GPA constitutes the bottom 15% of the class?\n",
    "gpa_bottom_fifteen_percent = round(stats.norm(SU_grad_mean, SU_grad_std).ppf(.15), 2)\n",
    "print(f'Anything belwao a {gpa_bottom_fifteen_percent} GPA is considered bottom 15% of the class')\n"
   ]
  },
  {
   "cell_type": "code",
   "execution_count": 129,
   "metadata": {},
   "outputs": [
    {
     "name": "stdout",
     "output_type": "stream",
     "text": [
      "The simulation shows a gpa greater than 3.49 is in the bottom 15.018999999999998%\n"
     ]
    }
   ],
   "source": [
    "#simulation check\n",
    "check_2b = (np.random.normal(3, .3, 100_000) < 2.69).mean()\n",
    "print(f'The simulation shows a gpa greater than 3.49 is in the bottom {check_2b * 100}%')"
   ]
  },
  {
   "cell_type": "code",
   "execution_count": 10,
   "metadata": {},
   "outputs": [
    {
     "name": "stdout",
     "output_type": "stream",
     "text": [
      "The range of the third decile is between 2.843 to 2.924.\n",
      "A student with a 2.8 GPA would not qualify for this scholarship\n"
     ]
    }
   ],
   "source": [
    "# c. An eccentric alumnus left scholarship money for students in the third decile from the bottom of their class.\n",
    "# Determine the range of the third decile. Would a student with a 2.8 grade point average qualify for this scholarship?\n",
    "top_third_decile_range = round(stats.norm(SU_grad_mean, SU_grad_std).ppf(.4), 3)\n",
    "bottom_third_decile_range = round(stats.norm(SU_grad_mean, SU_grad_std).ppf(.3), 3)\n",
    "print(f'The range of the third decile is between {bottom_third_decile_range} to {top_third_decile_range}.')\n",
    "print(\"A student with a 2.8 GPA would not qualify for this scholarship\")"
   ]
  },
  {
   "cell_type": "code",
   "execution_count": 11,
   "metadata": {},
   "outputs": [
    {
     "name": "stdout",
     "output_type": "stream",
     "text": [
      "If I have a GPA of 3.5, I am in the 95.0 percentile.\n"
     ]
    }
   ],
   "source": [
    "# d. If I have a GPA of 3.5, what percentile am I in?\n",
    "gpa_three_point_five = round(stats.norm(SU_grad_mean, SU_grad_std).cdf(3.5), 2)\n",
    "print(f'If I have a GPA of 3.5, I am in the {gpa_three_point_five * 100} percentile.')"
   ]
  },
  {
   "cell_type": "code",
   "execution_count": 130,
   "metadata": {},
   "outputs": [
    {
     "name": "stdout",
     "output_type": "stream",
     "text": [
      "The probability that 97 or more people will click through is 12.0%.\n"
     ]
    }
   ],
   "source": [
    "# 3. A marketing website has an average click-through rate of 2%. \n",
    "# One day they observe 4326 visitors and 97 click-throughs. \n",
    "# How likely is it that this many people or more click through?\n",
    "avg_click_through_rate = .02 # chance of click through\n",
    "visitors = 4326 # trials\n",
    "click_throughs = 97\n",
    "click_through_probability = round(stats.binom(visitors, avg_click_through_rate).sf(click_throughs), 2)\n",
    "print(f'The probability that {click_throughs} or more people will click through is {click_through_probability * 100}%.')"
   ]
  },
  {
   "cell_type": "code",
   "execution_count": 133,
   "metadata": {},
   "outputs": [
    {
     "name": "stdout",
     "output_type": "stream",
     "text": [
      "The simulation shows that 11.924999999999999% of the people who visited the site clicked through.\n"
     ]
    }
   ],
   "source": [
    "# Check utilizing simulation\n",
    "check_3 = (np.random.binomial(visitors, avg_click_through_rate, 100_000) > 97).mean()\n",
    "print(f'The simulation shows that {check_3 * 100}% of the people who visited the site clicked through.')"
   ]
  },
  {
   "cell_type": "code",
   "execution_count": 120,
   "metadata": {},
   "outputs": [
    {
     "name": "stdout",
     "output_type": "stream",
     "text": [
      "The probability that at least one of your first 60 answers is correct is 3209.0000000000005%\n"
     ]
    }
   ],
   "source": [
    "# 4. You are working on some statistics homework consisting of 100 questions where all of the answers are a probability rounded to the hundreths place.\n",
    "# Looking to save time, you put down random probabilities as the answer to each question.\n",
    "# What is the probability that at least one of your first 60 answers is correct?\n",
    "hw_questions = 100\n",
    "random_probability_guesses = pd.Series(np.round(np.random.rand(hw_questions), 2)) # Created a series of 100 random probabilities in the hundredths place\n",
    "#print(random_probability_guesses)\n",
    "first_60_answers = random_probability_guesses.head(60)  # first 60 answers\n"
   ]
  },
  {
   "cell_type": "code",
   "execution_count": null,
   "metadata": {},
   "outputs": [],
   "source": []
  }
 ],
 "metadata": {
  "interpreter": {
   "hash": "3067ead486e059ec00ffe7555bdb889e6e264a24dc711bf108106cc7baee8d5d"
  },
  "kernelspec": {
   "display_name": "Python 3.9.7 ('base')",
   "language": "python",
   "name": "python3"
  },
  "language_info": {
   "codemirror_mode": {
    "name": "ipython",
    "version": 3
   },
   "file_extension": ".py",
   "mimetype": "text/x-python",
   "name": "python",
   "nbconvert_exporter": "python",
   "pygments_lexer": "ipython3",
   "version": "3.9.7"
  },
  "orig_nbformat": 4
 },
 "nbformat": 4,
 "nbformat_minor": 2
}
