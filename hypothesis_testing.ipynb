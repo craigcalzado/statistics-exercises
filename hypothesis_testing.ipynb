{
 "cells": [
  {
   "cell_type": "markdown",
   "metadata": {},
   "source": [
    "Do your work for this exercise in a jupyter notebook named hypothesis_testing.ipynb.\n",
    "\n",
    "For each of the following questions:\n",
    " formulate a null and alternative hypothesis (be as specific as you can be), \n",
    " then give an example of what a true positive, true negative, type I and type II errors would look like. \n",
    "\n",
    " Note that some of the questions are intentionally phrased in a vague way. It is your job to reword these as more precise questions that could be tested.\n"
   ]
  },
  {
   "cell_type": "markdown",
   "metadata": {},
   "source": [
    "1. Has the network latency gone up since we switched internet service providers?\n",
    "Q: What was the network latency before we switched and then after the switch, what is the difference?\n",
    "H0: The avgerage network latency before the switch is greater than the average network latency after the switch.\n",
    "Ha: The average network latency after the switch is greater than the average network latency before the swtich.\n",
    "Alt_Hypo: The average network latency remains the same after the switch.\n",
    "True_Pos: We hypothesize that there was a significant increase to the average network latency after switching providers and reflects the same in reality.\n",
    "True_Neg: We hypothesize that there was no increase or a decrease in the average network latency after switching network providers and is reflected in realality.\n",
    "Type_1_error: We hypothesize an increase in the average network latency after switching network provider but in reality there was not an increase in the average network latency.\n",
    "Type_2_error: We hypothesize that there will not be an increase in the average network latency after switching but in reality there was an increase in the average network latency. "
   ]
  },
  {
   "cell_type": "markdown",
   "metadata": {},
   "source": [
    "\n",
    "2. Is the website redesign any good?\n",
    "Q: Did the click-through rate of visitors increase after the website was redesigned?\n",
    "H0: The average click-through rate of visitors before the redesign is greater then the average click-through rate after the website's redesign.\n",
    "Ha: The average click-through rate of visitors after the redesign was greater then the average click-through rate before the redesign.\n",
    "Alt_Hypo: The average click through rate of the websites visitors remained the same after the website's redesign.\n",
    "True_Pos: We hypothesize that there was significant increase in the average click-through rate of visitors after the website's redesign and is reflected in reality.\n",
    "True_Neg: We hypothosize that there was no increase or even a decrease in the average click-through rate after the website was redesigned.\n",
    "Type_1_error: We hypothesize that there is an increase in the average click-through rate but in reality there was no change to the average click_through rate.\n",
    "Type_2_error: We hypothesize that there was no increase or even a decrease in the average click_through rate after the website's redesign but in reality there was an increase.\n"
   ]
  },
  {
   "cell_type": "markdown",
   "metadata": {},
   "source": [
    "3. Is our television ad driving more sales?\n",
    "Q: Have the sales increased since airing our television ad?\n",
    "H0: There was no increse in sale after airing the the tv ad.\n",
    "Ha: There was an increase in sales after airing the tv ad.\n",
    "Alt_Hypo: The sales neither increased or decreased after airing the tv ad.\n",
    "True_Pos: We hypothesize that there was an increase in sale after the airing od the tv ad and is reflected in reality.\n",
    "True_Neg: We hyopthesize that there was no change or a decrease in sale after the tv ad and is reflected in reality.\n",
    "Type_1_error: We hypothesize that there was and increase in sale after the tv ad but in reality there was no change to sale.\n",
    "Type_2_error: We hypothesize that were would be no change or a decrease in the sales after the tv ad but in reality there was an increase in sales.\n"
   ]
  },
  {
   "cell_type": "markdown",
   "metadata": {},
   "source": [
    "Ace Realty wants to determine whether the average time it takes to sell homes is different for its two offices. A sample of 40 sales from office #1 revealed a mean of 90 days and a standard deviation of 15 days. A sample of 50 sales from office #2 revealed a mean of 100 days and a standard deviation of 20 days. Use a .05 level of significance."
   ]
  },
  {
   "cell_type": "code",
   "execution_count": 2,
   "metadata": {},
   "outputs": [],
   "source": [
    "import numpy as np\n",
    "import seaborn as sns\n",
    "import matplotlib.pyplot as plt\n",
    "import pandas as pd\n",
    "import scipy.stats as stats"
   ]
  },
  {
   "cell_type": "code",
   "execution_count": 4,
   "metadata": {},
   "outputs": [],
   "source": [
    "# Compare the sales of the two offices by the time it takes.\n",
    "# office 1: Made 40 sales in 90 days +/- 15 days.\n",
    "sales_office_1 = 40\n",
    "sales_office_1_mean = 90 #days\n",
    "sales_office_1_std = 15 #days\n",
    "# office 2: Made 50 sales in 100 days +/- 20 days.\n",
    "sales_office_2 = 50\n",
    "sales_office_2_mean = 100 #days\n",
    "sales_office_2_std = 20 #days"
   ]
  },
  {
   "cell_type": "code",
   "execution_count": 13,
   "metadata": {},
   "outputs": [],
   "source": [
    "# create variables to plot\n",
    "x = np.arange(50, 150)\n",
    "y1 = stats.norm(sales_office_1_mean, sales_office_1_std).pdf(x)\n",
    "y2 = stats.norm(sales_office_2_mean, sales_office_2_std).pdf(x)\n"
   ]
  },
  {
   "cell_type": "code",
   "execution_count": 14,
   "metadata": {},
   "outputs": [
    {
     "data": {
      "text/plain": [
       "<matplotlib.legend.Legend at 0x7fea0ce428b0>"
      ]
     },
     "execution_count": 14,
     "metadata": {},
     "output_type": "execute_result"
    },
    {
     "data": {
      "image/png": "[encoded data removed]",
      "text/plain": [
       "<Figure size 432x288 with 1 Axes>"
      ]
     },
     "metadata": {},
     "output_type": "display_data"
    }
   ],
   "source": [
    "# Plot the two distributions\n",
    "sns.set_style(\"darkgrid\")\n",
    "plt.plot(x, y1, label=\"Office 1\")\n",
    "plt.plot(x, y2, label=\"Office 2\")\n",
    "plt.legend()"
   ]
  },
  {
   "cell_type": "markdown",
   "metadata": {},
   "source": []
  }
 ],
 "metadata": {
  "interpreter": {
   "hash": "3067ead486e059ec00ffe7555bdb889e6e264a24dc711bf108106cc7baee8d5d"
  },
  "kernelspec": {
   "display_name": "Python 3.9.7 ('base')",
   "language": "python",
   "name": "python3"
  },
  "language_info": {
   "codemirror_mode": {
    "name": "ipython",
    "version": 3
   },
   "file_extension": ".py",
   "mimetype": "text/x-python",
   "name": "python",
   "nbconvert_exporter": "python",
   "pygments_lexer": "ipython3",
   "version": "3.9.7"
  },
  "orig_nbformat": 4
 },
 "nbformat": 4,
 "nbformat_minor": 2
}
