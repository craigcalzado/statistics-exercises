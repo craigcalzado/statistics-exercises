{
 "cells": [
  {
   "cell_type": "markdown",
   "metadata": {},
   "source": [
    "Do your work for this exercise in a jupyter notebook named hypothesis_testing.ipynb.\n",
    "\n",
    "For each of the following questions:\n",
    " formulate a null and alternative hypothesis (be as specific as you can be), \n",
    " then give an example of what a true positive, true negative, type I and type II errors would look like. \n",
    "\n",
    " Note that some of the questions are intentionally phrased in a vague way. It is your job to reword these as more precise questions that could be tested.\n"
   ]
  },
  {
   "cell_type": "markdown",
   "metadata": {},
   "source": [
    "1. Has the network latency gone up since we switched internet service providers?\n",
    "Q: What was the network latency before we switched and then after the switch, what is the difference?\n",
    "H0: The avgerage network latency before the switch is greater than the average network latency after the switch.\n",
    "Ha: The average network latency after the switch is greater than the average network latency before the swtich.\n",
    "Alt_Hypo: The average network latency remains the same after the switch.\n",
    "True_Pos: We hypothesize that there was a significant increase to the average network latency after switching providers and reflects the same in reality.\n",
    "True_Neg: We hypothesize that there was no increase or a decrease in the average network latency after switching network providers and is reflected in realality.\n",
    "Type_1_error: We hypothesize an increase in the average network latency after switching network provider but in reality there was not an increase in the average network latency.\n",
    "Type_2_error: We hypothesize that there will not be an increase in the average network latency after switching but in reality there was an increase in the average network latency. "
   ]
  },
  {
   "cell_type": "markdown",
   "metadata": {},
   "source": [
    "\n",
    "2. Is the website redesign any good?\n",
    "Q: Did the click-through rate of visitors increase after the website was redesigned?\n",
    "H0: The average click-through rate of visitors before the redesign is greater then the average click-through rate after the website's redesign.\n",
    "Ha: The average click-through rate of visitors after the redesign was greater then the average click-through rate before the redesign.\n",
    "Alt_Hypo: The average click through rate of the websites visitors remained the same after the website's redesign.\n",
    "True_Pos: We hypothesize that there was significant increase in the average click-through rate of visitors after the website's redesign and is reflected in reality.\n",
    "True_Neg: We hypothosize that there was no increase or even a decrease in the average click-through rate after the website was redesigned.\n",
    "Type_1_error: We hypothesize that there is an increase in the average click-through rate but in reality there was no change to the average click_through rate.\n",
    "Type_2_error: We hypothesize that there was no increase or even a decrease in the average click_through rate after the website's redesign but in reality there was an increase.\n"
   ]
  },
  {
   "cell_type": "markdown",
   "metadata": {},
   "source": [
    "3. Is our television ad driving more sales?\n"
   ]
  },
  {
   "cell_type": "code",
   "execution_count": null,
   "metadata": {},
   "outputs": [],
   "source": []
  },
  {
   "cell_type": "code",
   "execution_count": null,
   "metadata": {},
   "outputs": [],
   "source": []
  },
  {
   "cell_type": "markdown",
   "metadata": {},
   "source": []
  }
 ],
 "metadata": {
  "language_info": {
   "name": "python"
  },
  "orig_nbformat": 4
 },
 "nbformat": 4,
 "nbformat_minor": 2
}
