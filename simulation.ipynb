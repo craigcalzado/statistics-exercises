{
 "cells": [
  {
   "cell_type": "code",
   "execution_count": 1,
   "metadata": {},
   "outputs": [],
   "source": [
    "import random as r\n",
    "import numpy as np\n",
    "import matplotlib.pyplot as plt\n",
    "import pandas as pd"
   ]
  },
  {
   "cell_type": "code",
   "execution_count": 2,
   "metadata": {},
   "outputs": [
    {
     "name": "stdout",
     "output_type": "stream",
     "text": [
      "0.1597\n"
     ]
    }
   ],
   "source": [
    "# 1. How likely is it to roll doubles when rolling two dice?\n",
    "dice_rolls = np.random.randint(1, 7, size=(10000, 2))\n",
    "doubles = dice_rolls[:, 0] == dice_rolls[:, 1]\n",
    "print(doubles.mean())"
   ]
  },
  {
   "cell_type": "code",
   "execution_count": 3,
   "metadata": {},
   "outputs": [
    {
     "name": "stdout",
     "output_type": "stream",
     "text": [
      "The probability of getting three heads is: 21.529999999999998 %\n",
      "The probability of getting more than three heads is: 64.18 %\n"
     ]
    }
   ],
   "source": [
    "# 2. If you flip 8 coins, what is the probability of getting exactly 3 heads? What is the probability of getting more than 3 heads?\n",
    "flips = np.random.randint(0, 2, size=(10000, 8))\n",
    "three_heads = flips.sum(axis=1) == 3\n",
    "more_than_three_heads = flips.sum(axis=1) > 3\n",
    "print('The probability of getting three heads is:', three_heads.mean()*100, '%')\n",
    "print('The probability of getting more than three heads is:', more_than_three_heads.mean()* 100, '%')"
   ]
  },
  {
   "cell_type": "code",
   "execution_count": 4,
   "metadata": {},
   "outputs": [
    {
     "name": "stdout",
     "output_type": "stream",
     "text": [
      "The odds of seeing data science alumni on both billboards is: 6.36 %\n"
     ]
    }
   ],
   "source": [
    "# 4. There are approximitely 3 web development cohorts for every 1 data science cohort at Codeup. \n",
    "# Assuming that Codeup randomly selects an alumni to put on a billboard, \n",
    "# what are the odds that the two billboards I drive past both have data science students on them?\n",
    "cohorts = [1, 1, 1, 0]\n",
    "n_simulations = 10000\n",
    "n_trials = 2 # number of billboards\n",
    "\n",
    "billboard = np.random.choice(cohorts, size=(n_simulations, n_trials))\n",
    "ds_alumni = billboard == 0\n",
    "ds_alumni_billboard = ds_alumni.sum(axis=1) == 2\n",
    "print('The odds of seeing data science alumni on both billboards is:', ds_alumni_billboard.mean()*100, '%')"
   ]
  },
  {
   "cell_type": "code",
   "execution_count": null,
   "metadata": {},
   "outputs": [],
   "source": []
  }
 ],
 "metadata": {
  "interpreter": {
   "hash": "3067ead486e059ec00ffe7555bdb889e6e264a24dc711bf108106cc7baee8d5d"
  },
  "kernelspec": {
   "display_name": "Python 3.9.7 ('base')",
   "language": "python",
   "name": "python3"
  },
  "language_info": {
   "codemirror_mode": {
    "name": "ipython",
    "version": 3
   },
   "file_extension": ".py",
   "mimetype": "text/x-python",
   "name": "python",
   "nbconvert_exporter": "python",
   "pygments_lexer": "ipython3",
   "version": "3.9.7"
  },
  "orig_nbformat": 4
 },
 "nbformat": 4,
 "nbformat_minor": 2
}
