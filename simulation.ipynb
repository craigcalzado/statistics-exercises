{
 "cells": [
  {
   "cell_type": "code",
   "execution_count": null,
   "metadata": {},
   "outputs": [],
   "source": [
    "import random as r\n",
    "import numpy as np\n",
    "import matplotlib.pyplot as plt\n",
    "import pandas as pd"
   ]
  },
  {
   "cell_type": "code",
   "execution_count": null,
   "metadata": {},
   "outputs": [],
   "source": [
    "# 1. How likely is it to roll doubles when rolling two dice?\n",
    "dice_rolls = np.random.randint(1, 7, size=(10000, 2))\n",
    "doubles = dice_rolls[:, 0] == dice_rolls[:, 1]\n",
    "print(doubles.mean())"
   ]
  },
  {
   "cell_type": "code",
   "execution_count": null,
   "metadata": {},
   "outputs": [],
   "source": [
    "# 2. If you flip 8 coins, what is the probability of getting exactly 3 heads? What is the probability of getting more than 3 heads?\n",
    "flips = np.random.randint(0, 2, size=(10000, 8))\n",
    "three_heads = flips.sum(axis=1) == 3\n",
    "more_than_three_heads = flips.sum(axis=1) > 3\n",
    "print('The probability of getting three heads is:', three_heads.mean()*100, '%')\n",
    "print('The probability of getting more than three heads is:', more_than_three_heads.mean()* 100, '%')"
   ]
  },
  {
   "cell_type": "code",
   "execution_count": null,
   "metadata": {},
   "outputs": [],
   "source": [
    "# 4. There are approximitely 3 web development cohorts for every 1 data science cohort at Codeup. \n",
    "# Assuming that Codeup randomly selects an alumni to put on a billboard, \n",
    "# what are the odds that the two billboards I drive past both have data science students on them?\n",
    "cohorts = [1, 1, 1, 0]\n",
    "n_simulations = 10000\n",
    "n_trials = 2 # number of billboards\n",
    "\n",
    "billboard = np.random.choice(cohorts, size=(n_simulations, n_trials))\n",
    "ds_alumni = billboard == 0\n",
    "ds_alumni_billboard = ds_alumni.sum(axis=1) == 2\n",
    "print('The odds of seeing data science alumni on both billboards is:', ds_alumni_billboard.mean()*100, '%')"
   ]
  }
 ],
 "metadata": {
  "language_info": {
   "name": "python"
  },
  "orig_nbformat": 4
 },
 "nbformat": 4,
 "nbformat_minor": 2
}
