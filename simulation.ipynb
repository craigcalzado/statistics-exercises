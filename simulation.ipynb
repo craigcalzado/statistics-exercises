{
 "cells": [
  {
   "cell_type": "code",
   "execution_count": 1,
   "metadata": {},
   "outputs": [],
   "source": [
    "import random as r\n",
    "import numpy as np\n",
    "import matplotlib.pyplot as plt\n",
    "import pandas as pd"
   ]
  },
  {
   "cell_type": "code",
   "execution_count": 38,
   "metadata": {},
   "outputs": [
    {
     "name": "stdout",
     "output_type": "stream",
     "text": [
      "0.1611\n"
     ]
    }
   ],
   "source": [
    "# 1. How likely is it to roll doubles when rolling two dice?\n",
    "dice_rolls = np.random.randint(1, 7, size=(10000, 2)) # 10000 random rolls of two dice with sides 1-6\n",
    "doubles = dice_rolls[:, 0] == dice_rolls[:, 1] # True if both dice are equal\n",
    "print(doubles.mean())"
   ]
  },
  {
   "cell_type": "code",
   "execution_count": 3,
   "metadata": {},
   "outputs": [
    {
     "name": "stdout",
     "output_type": "stream",
     "text": [
      "The probability of getting three heads is: 21.529999999999998 %\n",
      "The probability of getting more than three heads is: 64.18 %\n"
     ]
    }
   ],
   "source": [
    "# 2. If you flip 8 coins, what is the probability of getting exactly 3 heads? What is the probability of getting more than 3 heads?\n",
    "flips = np.random.randint(0, 2, size=(10000, 8)) # 10000 random flips of 8 coins with heads=1 tails=0\n",
    "three_heads = flips.sum(axis=1) == 3 # True if 3 heads\n",
    "more_than_three_heads = flips.sum(axis=1) > 3 # True if more than 3 heads\n",
    "print('The probability of getting three heads is:', three_heads.mean()*100, '%')\n",
    "print('The probability of getting more than three heads is:', more_than_three_heads.mean()* 100, '%')"
   ]
  },
  {
   "cell_type": "code",
   "execution_count": 4,
   "metadata": {},
   "outputs": [
    {
     "name": "stdout",
     "output_type": "stream",
     "text": [
      "The odds of seeing data science alumni on both billboards is: 6.36 %\n"
     ]
    }
   ],
   "source": [
    "# 3. There are approximitely 3 web development cohorts for every 1 data science cohort at Codeup. \n",
    "# Assuming that Codeup randomly selects an alumni to put on a billboard, \n",
    "# what are the odds that the two billboards I drive past both have data science students on them?\n",
    "cohorts = [1, 1, 1, 0] # 1 data science cohort, 3 web development cohorts\n",
    "n_simulations = 10000 # 10000 simulations\n",
    "n_trials = 2 # number of billboards\n",
    "\n",
    "billboard = np.random.choice(cohorts, size=(n_simulations, n_trials)) # randomly select 2 billboards\n",
    "ds_alumni = billboard == 0 # True if data science alumni\n",
    "ds_alumni_billboard = ds_alumni.sum(axis=1) == 2 # True if data science alumni on both billboards\n",
    "print('The odds of seeing data science alumni on both billboards is:', ds_alumni_billboard.mean()*100, '%')"
   ]
  },
  {
   "cell_type": "code",
   "execution_count": 37,
   "metadata": {},
   "outputs": [
    {
     "name": "stdout",
     "output_type": "stream",
     "text": [
      "There is a 67.56 % chance that you will be able to buy some poptarts on Friday afternoon.\n"
     ]
    }
   ],
   "source": [
    "# Codeup students buy, on average, 3 poptart packages with a standard deviation of 1.5 a day from the snack vending machine. \n",
    "# If on monday the machine is restocked with 17 poptart packages, how likely is it that I will be able to buy some poptarts on Friday afternoon? \n",
    "# (Remember, if you have mean and standard deviation, use the np.random.normal)\n",
    "daily_poptarts = np.random.normal(3, 1.5, size=(10000, 5)) # 10000 random poptarts with mean 3 and standard deviation 1.5\n",
    "weekly_eaten_poptarts = np.round(daily_poptarts.sum(axis=1)) # number of poptarts eaten in a week\n",
    "poptarts_left = weekly_eaten_poptarts < 17 # True if there are less than 17 have been eaten\n",
    "print('There is a', poptarts_left.mean()*100,'%', 'chance that you will be able to buy some poptarts on Friday afternoon.')\n",
    "\n",
    "\n"
   ]
  },
  {
   "cell_type": "code",
   "execution_count": 57,
   "metadata": {},
   "outputs": [
    {
     "name": "stdout",
     "output_type": "stream",
     "text": [
      "There is a 21.07% chance that a women is taller then a man.\n"
     ]
    }
   ],
   "source": [
    "# 5. Compare Heights:\n",
    "# Men have an average height of 178 cm and standard deviation of 8cm.\n",
    "# Women have a mean of 170, sd = 6cm.\n",
    "# Since you have means and standard deviations, you can use np.random.normal to generate observations.\n",
    "# If a man and woman are chosen at random, P(woman taller than man)?\n",
    "men_height = np.random.normal(178, 8, 100000) # generated random mens height\n",
    "women_height = np.random.normal(170, 6, 100000) # generated womens height\n",
    "P = round((men_height < women_height).mean()*100, 2) # the average of when a women was taller than a man\n",
    "print(f'There is a {P}% chance that a women is taller then a man.')\n"
   ]
  },
  {
   "cell_type": "code",
   "execution_count": 93,
   "metadata": {},
   "outputs": [
    {
     "name": "stdout",
     "output_type": "stream",
     "text": [
      "There is a 82.0% chance that after having 50 students download anaconda, no one has an installation issue.\n"
     ]
    }
   ],
   "source": [
    "# When installing anaconda on a student's computer, there's a 1 in 250 chance that the download is corrupted and the installation fails. What are the odds that after having 50 students download anaconda, no one has an installation issue? 100 students?\n",
    "prob_corrupted_download = 1/250 # 1 in 250 chance that the download is corrupted\n",
    "pro_not_corrupted_download = 1 - prob_corrupted_download # 1 - 1/250 = 0.999\n",
    "fifty_downloads = np.random.choice([True, False], size=(100000, 50), p=(prob_corrupted_download, pro_not_corrupted_download)) # 10000 random downloads with 1 in 250 chance of being corrupted\n",
    "no_installation_issue = fifty_downloads.sum(axis=1) == 0 # True if no installation issue\n",
    "ans50 = round(no_installation_issue.mean(), 2) # the average of no installation issue\n",
    "print(f'There is a {ans50*100}% chance that after having 50 students download anaconda, no one has an installation issue.')"
   ]
  },
  {
   "cell_type": "code",
   "execution_count": 101,
   "metadata": {},
   "outputs": [
    {
     "name": "stdout",
     "output_type": "stream",
     "text": [
      "There is a 54.6% chance that after having 150 students download anaconda, no one has an installation issue.\n"
     ]
    }
   ],
   "source": [
    "# What is the probability that we observe an installation issue within the first 150 students that download anaconda?\n",
    "one_fifty_downloads = np.random.choice([True, False], size=(10000, 150), p=(prob_corrupted_download, pro_not_corrupted_download)) # 150 students download anaconda\"\n",
    "no_install_issue = one_fifty_downloads.sum(axis=1) == 0 # True if no installation issue\n",
    "ans150 = no_install_issue.mean() # the average of no installation issue\n",
    "print(f'There is a {ans150 * 100}% chance that after having 150 students download anaconda, no one has an installation issue.')"
   ]
  },
  {
   "cell_type": "code",
   "execution_count": 103,
   "metadata": {},
   "outputs": [
    {
     "name": "stdout",
     "output_type": "stream",
     "text": [
      "There is a 16.0% chance that after having 450 students download anaconda, no one has an installation issue.\n"
     ]
    }
   ],
   "source": [
    "# How likely is it that 450 students all download anaconda without an issue?\n",
    "four_fifty_downloads = np.random.choice([True, False], size=(10000, 450), p=(prob_corrupted_download, pro_not_corrupted_download)) # 450 students download anaconda\n",
    "no_install_issue = four_fifty_downloads.sum(axis=1) == 0 # True if no installation issue\n",
    "ans450 = round(no_install_issue.mean(), 2) # the average of no installation issue\n",
    "print(f'There is a {ans450 * 100}% chance that after having 450 students download anaconda, no one has an installation issue.')"
   ]
  },
  {
   "cell_type": "code",
   "execution_count": 109,
   "metadata": {},
   "outputs": [
    {
     "name": "stdout",
     "output_type": "stream",
     "text": [
      "There is a 2.683% chance that after having 3 days, no one sees a food truck.\n"
     ]
    }
   ],
   "source": [
    "# There's a 70% chance on any given day that there will be at least one food truck at Travis Park. \n",
    "# However, you haven't seen a food truck there in 3 days. How unlikely is this?\n",
    "chance_of_ftruck = 0.7 # 70% chance of seeing a food truck\n",
    "three_days = 3 # 3 days\n",
    "travis_park = np.random.choice([True, False], size=(100000, three_days), p=(chance_of_ftruck, 1-chance_of_ftruck)) # 10000 random days with 70% chance of seeing a food truck\n",
    "no_ftruck = travis_park.sum(axis=1) == 0 # True if no food truck\n",
    "ans3 = no_ftruck.mean() # the average of no food truck\n",
    "print(f'There is a {ans3 * 100}% chance that after having 3 days, no one sees a food truck.')"
   ]
  },
  {
   "cell_type": "code",
   "execution_count": null,
   "metadata": {},
   "outputs": [],
   "source": [
    "# How likely is it that a food truck will show up sometime this week?\n",
    "\n"
   ]
  }
 ],
 "metadata": {
  "interpreter": {
   "hash": "3067ead486e059ec00ffe7555bdb889e6e264a24dc711bf108106cc7baee8d5d"
  },
  "kernelspec": {
   "display_name": "Python 3.9.7 ('base')",
   "language": "python",
   "name": "python3"
  },
  "language_info": {
   "codemirror_mode": {
    "name": "ipython",
    "version": 3
   },
   "file_extension": ".py",
   "mimetype": "text/x-python",
   "name": "python",
   "nbconvert_exporter": "python",
   "pygments_lexer": "ipython3",
   "version": "3.9.7"
  },
  "orig_nbformat": 4
 },
 "nbformat": 4,
 "nbformat_minor": 2
}
